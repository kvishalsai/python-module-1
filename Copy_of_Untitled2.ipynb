{
  "nbformat": 4,
  "nbformat_minor": 0,
  "metadata": {
    "colab": {
      "name": "Copy of Untitled2.ipynb",
      "provenance": [],
      "collapsed_sections": [],
      "authorship_tag": "ABX9TyMUk0awFvaBTebfDh9mqGg0",
      "include_colab_link": true
    },
    "kernelspec": {
      "name": "python3",
      "display_name": "Python 3"
    }
  },
  "cells": [
    {
      "cell_type": "markdown",
      "metadata": {
        "id": "view-in-github",
        "colab_type": "text"
      },
      "source": [
        "<a href=\"https://colab.research.google.com/github/kvishalsai/python-module-1/blob/master/Copy_of_Untitled2.ipynb\" target=\"_parent\"><img src=\"https://colab.research.google.com/assets/colab-badge.svg\" alt=\"Open In Colab\"/></a>"
      ]
    },
    {
      "cell_type": "code",
      "metadata": {
        "id": "JYwCDmSDB12N",
        "colab_type": "code",
        "colab": {}
      },
      "source": [
        "Question 2\n",
        " \n",
        " \n",
        "To calculate simple interest"
      ],
      "execution_count": null,
      "outputs": []
    },
    {
      "cell_type": "code",
      "metadata": {
        "id": "YyGTE_0WB6Os",
        "colab_type": "code",
        "colab": {
          "base_uri": "https://localhost:8080/",
          "height": 85
        },
        "outputId": "a360bc06-ee98-4fa6-f46c-2579b3b4e17d"
      },
      "source": [
        "P=int(input('enter value of P:'))\n",
        "T=int(input('enter value of T:'))\n",
        "R=int(input('enter value of R:'))\n",
        "print('simple interest is:',((P*T*R)/100))"
      ],
      "execution_count": null,
      "outputs": [
        {
          "output_type": "stream",
          "text": [
            "enter value of P:10\n",
            "enter value of T:20\n",
            "enter value of R:30\n",
            "simple interest is: 60.0\n"
          ],
          "name": "stdout"
        }
      ]
    },
    {
      "cell_type": "code",
      "metadata": {
        "id": "xFEeYA76C2a2",
        "colab_type": "code",
        "colab": {}
      },
      "source": [
        " Question 1\n",
        " \n",
        " \n",
        " \n",
        "To design simple calculator for the operators"
      ],
      "execution_count": null,
      "outputs": []
    },
    {
      "cell_type": "code",
      "metadata": {
        "id": "0JEcZdYGTHuz",
        "colab_type": "code",
        "colab": {
          "base_uri": "https://localhost:8080/",
          "height": 68
        },
        "outputId": "3e51a541-d366-467e-e38f-9a1cdd84ea95"
      },
      "source": [
        " \n",
        "a=int(input('enter value of a:'))\n",
        "b=int(input('enter value of b:'))\n",
        "print('sum of a and b is',a+b)"
      ],
      "execution_count": null,
      "outputs": [
        {
          "output_type": "stream",
          "text": [
            "enter value of a:5\n",
            "enter value of b:6\n",
            "sum of a and b is 11\n"
          ],
          "name": "stdout"
        }
      ]
    },
    {
      "cell_type": "code",
      "metadata": {
        "id": "KD9KRlWKTYx_",
        "colab_type": "code",
        "colab": {
          "base_uri": "https://localhost:8080/",
          "height": 68
        },
        "outputId": "4f099eff-bed3-400f-9f7f-f8f867aebe80"
      },
      "source": [
        " a=int(input('enter value of a:'))\n",
        "b=int(input('enter value of b'))\n",
        "print('product of a and b is',a*b)"
      ],
      "execution_count": null,
      "outputs": [
        {
          "output_type": "stream",
          "text": [
            "enter value of a:6\n",
            "enter value of b7\n",
            "product of a and b is 42\n"
          ],
          "name": "stdout"
        }
      ]
    },
    {
      "cell_type": "code",
      "metadata": {
        "id": "KS5ypHCpTu5a",
        "colab_type": "code",
        "colab": {
          "base_uri": "https://localhost:8080/",
          "height": 68
        },
        "outputId": "da2125c0-1c81-4cbc-c728-a6ca584949bc"
      },
      "source": [
        " a=int(input('enter value of a:'))\n",
        "b=int(input('enter value of b:'))\n",
        "print('difference of a and b is',a-b)"
      ],
      "execution_count": null,
      "outputs": [
        {
          "output_type": "stream",
          "text": [
            "enter value of a:10\n",
            "enter value of b:5\n",
            "difference of a and b is 5\n"
          ],
          "name": "stdout"
        }
      ]
    },
    {
      "cell_type": "code",
      "metadata": {
        "id": "fwH7hD-fT53n",
        "colab_type": "code",
        "colab": {
          "base_uri": "https://localhost:8080/",
          "height": 68
        },
        "outputId": "37a34c90-d5ac-4635-dd93-41569771e418"
      },
      "source": [
        " a=int(input('enter value of a:'))\n",
        "b=int(input('enter value of b:'))\n",
        "print('cofficentof a and b is',a/b)"
      ],
      "execution_count": null,
      "outputs": [
        {
          "output_type": "stream",
          "text": [
            "enter value of a:30\n",
            "enter value of b:5\n",
            "cofficentof a and b is 6.0\n"
          ],
          "name": "stdout"
        }
      ]
    },
    {
      "cell_type": "code",
      "metadata": {
        "id": "hNUZc6ZCUgcT",
        "colab_type": "code",
        "colab": {
          "base_uri": "https://localhost:8080/",
          "height": 68
        },
        "outputId": "eef39a18-cee6-4dae-d89d-6cfc06876c27"
      },
      "source": [
        " a=int(input('enter value of a:'))\n",
        "b=int(input('enter value of b:'))\n",
        "print('reminder of a and b is',a%b)"
      ],
      "execution_count": null,
      "outputs": [
        {
          "output_type": "stream",
          "text": [
            "enter value of a:2\n",
            "enter value of b:4\n",
            "reminder of a and b is 2\n"
          ],
          "name": "stdout"
        }
      ]
    },
    {
      "cell_type": "code",
      "metadata": {
        "id": "TAhoLJTUU5Aa",
        "colab_type": "code",
        "colab": {
          "base_uri": "https://localhost:8080/",
          "height": 68
        },
        "outputId": "02b589b3-1b43-4f40-e6e8-79b2870f694c"
      },
      "source": [
        " a=int(input('enter value of a:'))\n",
        "b=int(input('enter value of b:'))\n",
        "print(' a power b is',a**b)"
      ],
      "execution_count": null,
      "outputs": [
        {
          "output_type": "stream",
          "text": [
            "enter value of a:6\n",
            "enter value of b:3\n",
            " a power b is 216\n"
          ],
          "name": "stdout"
        }
      ]
    },
    {
      "cell_type": "code",
      "metadata": {
        "id": "nu4abP1KVM0d",
        "colab_type": "code",
        "colab": {
          "base_uri": "https://localhost:8080/",
          "height": 68
        },
        "outputId": "fca9651c-098b-4f1c-cd21-0a2da502434f"
      },
      "source": [
        " a=int(input('enter value of a:'))\n",
        "b=int(input('enter value of b:'))\n",
        "print('floor division is',a//b)"
      ],
      "execution_count": null,
      "outputs": [
        {
          "output_type": "stream",
          "text": [
            "enter value of a:10\n",
            "enter value of b:3\n",
            "floor division is 3\n"
          ],
          "name": "stdout"
        }
      ]
    },
    {
      "cell_type": "code",
      "metadata": {
        "id": "l__HWsTIVfsy",
        "colab_type": "code",
        "colab": {}
      },
      "source": [
        "Question 3\n",
        " \n",
        " \n",
        " \n",
        "Calculate area of circle"
      ],
      "execution_count": null,
      "outputs": []
    },
    {
      "cell_type": "code",
      "metadata": {
        "id": "PyVmBd7qVmaM",
        "colab_type": "code",
        "colab": {
          "base_uri": "https://localhost:8080/",
          "height": 51
        },
        "outputId": "76924ce9-0164-4a74-87ff-53ff0b919dd7"
      },
      "source": [
        " r=int(input('enter value of radius'))\n",
        "print('area of circle is:',(3.14*r*r))"
      ],
      "execution_count": null,
      "outputs": [
        {
          "output_type": "stream",
          "text": [
            "enter value of radius5\n",
            "area of circle is: 78.5\n"
          ],
          "name": "stdout"
        }
      ]
    },
    {
      "cell_type": "code",
      "metadata": {
        "id": "mqKiIe6cVvHU",
        "colab_type": "code",
        "colab": {}
      },
      "source": [
        "Question 4\n",
        " \n",
        " \n",
        "Calculate area of triangle"
      ],
      "execution_count": null,
      "outputs": []
    },
    {
      "cell_type": "code",
      "metadata": {
        "id": "Kw79MIizV18f",
        "colab_type": "code",
        "colab": {
          "base_uri": "https://localhost:8080/",
          "height": 34
        },
        "outputId": "d41d8ff3-7947-499c-a416-bb61fc8308a5"
      },
      "source": [
        " S1=2\n",
        "S2=3\n",
        "S3=3\n",
        "print('area of triangle:',(S1*S2*S3))"
      ],
      "execution_count": null,
      "outputs": [
        {
          "output_type": "stream",
          "text": [
            "area of triangle: 18\n"
          ],
          "name": "stdout"
        }
      ]
    },
    {
      "cell_type": "code",
      "metadata": {
        "id": "bmRGpUEJV8g1",
        "colab_type": "code",
        "colab": {}
      },
      "source": [
        " question 5\n",
        " \n",
        "convert temperature in celsius to fahrenheit"
      ],
      "execution_count": null,
      "outputs": []
    },
    {
      "cell_type": "code",
      "metadata": {
        "id": "OWkNKQx_WBwU",
        "colab_type": "code",
        "colab": {
          "base_uri": "https://localhost:8080/",
          "height": 34
        },
        "outputId": "62f71dba-4a52-4019-d532-2f88a1875fdf"
      },
      "source": [
        " c=37\n",
        "print('temperature in fahrenheit is:',(1.68))"
      ],
      "execution_count": null,
      "outputs": [
        {
          "output_type": "stream",
          "text": [
            "temperature in fahrenheit is: 1.68\n"
          ],
          "name": "stdout"
        }
      ]
    },
    {
      "cell_type": "code",
      "metadata": {
        "id": "TwQm1c_nWMIm",
        "colab_type": "code",
        "colab": {}
      },
      "source": [
        "Question 6\n",
        " \n",
        "Calculate area of rectangle"
      ],
      "execution_count": null,
      "outputs": []
    },
    {
      "cell_type": "code",
      "metadata": {
        "id": "0KGygvcAWUpF",
        "colab_type": "code",
        "colab": {
          "base_uri": "https://localhost:8080/",
          "height": 34
        },
        "outputId": "8f78f0ff-e73e-46c7-d34c-a4674a8794b9"
      },
      "source": [
        " l=5\n",
        "b=5\n",
        "print('area of rectangle:',(l*b))"
      ],
      "execution_count": null,
      "outputs": [
        {
          "output_type": "stream",
          "text": [
            "area of rectangle: 25\n"
          ],
          "name": "stdout"
        }
      ]
    },
    {
      "cell_type": "code",
      "metadata": {
        "id": "jqiBSkPvWeD-",
        "colab_type": "code",
        "colab": {}
      },
      "source": [
        "Question 7\n",
        " \n",
        " \n",
        "Calculate circumference of circle"
      ],
      "execution_count": null,
      "outputs": []
    },
    {
      "cell_type": "code",
      "metadata": {
        "id": "4pPcWiogWjhR",
        "colab_type": "code",
        "colab": {
          "base_uri": "https://localhost:8080/",
          "height": 51
        },
        "outputId": "d1bd3574-a95e-441a-929f-62cc8d080411"
      },
      "source": [
        " r=int(input('value of radius:'))\n",
        "print('circumference of circle:',2*3.14*r)"
      ],
      "execution_count": null,
      "outputs": [
        {
          "output_type": "stream",
          "text": [
            "value of radius:6\n",
            "circumference of circle: 37.68\n"
          ],
          "name": "stdout"
        }
      ]
    },
    {
      "cell_type": "code",
      "metadata": {
        "id": "GuZE6ImuWrrn",
        "colab_type": "code",
        "colab": {}
      },
      "source": [
        "Question 8\n",
        " \n",
        " \n",
        "Calculate perimeter of square"
      ],
      "execution_count": null,
      "outputs": []
    },
    {
      "cell_type": "code",
      "metadata": {
        "id": "khfmaOsUXeMz",
        "colab_type": "code",
        "colab": {
          "base_uri": "https://localhost:8080/",
          "height": 85
        },
        "outputId": "2f3bce02-7f57-4f41-d244-cd2266ccd4f7"
      },
      "source": [
        "print(\"Enter 'x' for exit.\");\n",
        "side = input(\"Enter side length of square: \");\n",
        "if side == 'x':\n",
        "    exit();\n",
        "else:\n",
        "    slength = int(side);\n",
        "    perimeter = 4*slength;\n",
        "    print(\"\\nPerimeter of Square =\", perimeter);"
      ],
      "execution_count": null,
      "outputs": [
        {
          "output_type": "stream",
          "text": [
            "Enter 'x' for exit.\n",
            "Enter side length of square: 2\n",
            "\n",
            "Perimeter of Square = 8\n"
          ],
          "name": "stdout"
        }
      ]
    },
    {
      "cell_type": "code",
      "metadata": {
        "id": "CkDyAltqXzPe",
        "colab_type": "code",
        "colab": {}
      },
      "source": [
        "Question 9\n",
        " \n",
        " \n",
        "Swap of two numbers"
      ],
      "execution_count": null,
      "outputs": []
    },
    {
      "cell_type": "code",
      "metadata": {
        "id": "bHZFpkRzX5l1",
        "colab_type": "code",
        "colab": {
          "base_uri": "https://localhost:8080/",
          "height": 51
        },
        "outputId": "624b52c5-7bf4-4de3-f62c-1079cc3c603c"
      },
      "source": [
        " a=5\n",
        "b=10\n",
        "a=a+b\n",
        "b=a-b\n",
        "b=a-b\n",
        "print('value of a after swapping:',a)\n",
        "print('value of b after swapping:',b)"
      ],
      "execution_count": null,
      "outputs": [
        {
          "output_type": "stream",
          "text": [
            "value of a after swapping: 15\n",
            "value of b after swapping: 10\n"
          ],
          "name": "stdout"
        }
      ]
    }
  ]
}